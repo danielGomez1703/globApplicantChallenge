{
 "cells": [
  {
   "cell_type": "code",
   "execution_count": 1,
   "id": "9c57fcdf-0bd4-4684-b473-b47a9d72d29f",
   "metadata": {
    "tags": []
   },
   "outputs": [],
   "source": [
    "from pyspark.context import SparkContext\n",
    "from pyspark.sql.session import SparkSession\n",
    "from pyspark.sql.types import StructType, StructField, IntegerType, StringType\n",
    "import os\n",
    "import logging\n",
    "import configparser"
   ]
  },
  {
   "cell_type": "code",
   "execution_count": 2,
   "id": "5c2b3e8b-0d53-424b-a529-656796a42afe",
   "metadata": {
    "tags": []
   },
   "outputs": [],
   "source": [
    "spark = SparkSession.builder \\\n",
    "    .appName(\"appGlob\") \\\n",
    "    .config(\"spark.jars\",\"../controller/postgresql-42.7.2.jar\")\\\n",
    "    .config('spark.driver.extraClassPath', '../controller/postgresql-42.7.2.jar') \\\n",
    "    .getOrCreate()"
   ]
  },
  {
   "cell_type": "code",
   "execution_count": 3,
   "id": "4cb34c37-8d3c-41f0-aa08-b4cebe3d2073",
   "metadata": {
    "tags": []
   },
   "outputs": [],
   "source": [
    "#log\n",
    "logging.basicConfig(level=logging.INFO)\n",
    "logger = logging.getLogger(\"ReadCSV\")\n"
   ]
  },
  {
   "cell_type": "code",
   "execution_count": 4,
   "id": "5ca208da-9de7-4341-b441-0728fa3a0ffe",
   "metadata": {
    "tags": []
   },
   "outputs": [],
   "source": [
    "config = configparser.ConfigParser()\n",
    "config.read(\"../properties.conf\")\n",
    "database_config = config[\"database\"]\n"
   ]
  },
  {
   "cell_type": "code",
   "execution_count": 5,
   "id": "ff9d1339-0bab-4be4-8cce-e559489b0050",
   "metadata": {},
   "outputs": [],
   "source": [
    "#LOAD_FILE\n",
    "filePath = \"C:/Users/andre/OneDrive/Escritorio/data_challenge_files/\"\n",
    "fileType = \"jobs.csv\"\n",
    "# Define the schema\n",
    "dp_schema = StructType([\n",
    "    StructField(\"id\", IntegerType(), True),\n",
    "    StructField(\"job\", StringType(), True)\n",
    "])\n"
   ]
  },
  {
   "cell_type": "code",
   "execution_count": 6,
   "id": "248722e8-bf08-4d68-a07c-f7f924ea98f4",
   "metadata": {
    "tags": []
   },
   "outputs": [],
   "source": [
    "try: \n",
    "    df = spark.read.csv(filePath+fileType,header=False, inferSchema=False, schema=dp_schema ,sep=\",\")\n",
    "    \n",
    "except Exception as e:\n",
    "    logger.error(\"Error: %s\", str(e), exc_info=True)\n",
    "    df = spark.createDataFrame([], schema=schema)"
   ]
  },
  {
   "cell_type": "code",
   "execution_count": 7,
   "id": "ae0d5a8d-501a-4900-ba96-9a1dbccb28b7",
   "metadata": {
    "tags": []
   },
   "outputs": [
    {
     "name": "stderr",
     "output_type": "stream",
     "text": [
      "INFO:ReadCSV:Dataframe schema for jobs tale :\n"
     ]
    },
    {
     "name": "stdout",
     "output_type": "stream",
     "text": [
      "root\n",
      " |-- id: integer (nullable = true)\n",
      " |-- job: string (nullable = true)\n",
      "\n"
     ]
    }
   ],
   "source": [
    "logger.info(\"Dataframe schema for jobs tale :\")\n",
    "df.printSchema()"
   ]
  },
  {
   "cell_type": "code",
   "execution_count": 8,
   "id": "bf0f1dbe-8a53-4592-a8e8-09b64da363da",
   "metadata": {
    "tags": []
   },
   "outputs": [
    {
     "data": {
      "text/plain": [
       "183"
      ]
     },
     "execution_count": 8,
     "metadata": {},
     "output_type": "execute_result"
    }
   ],
   "source": [
    "df.count()"
   ]
  },
  {
   "cell_type": "code",
   "execution_count": 9,
   "id": "f4ca7120-9f78-45df-a9a8-823daa6768bf",
   "metadata": {
    "tags": []
   },
   "outputs": [],
   "source": [
    "try :\n",
    "    df.write \\\n",
    "    .format(\"jdbc\") \\\n",
    "    .mode(\"overwrite\") \\\n",
    "    .option(\"url\", database_config[\"url\"]) \\\n",
    "    .option(\"dbtable\", \"jobs\") \\\n",
    "    .option(\"user\", database_config[\"user\"]) \\\n",
    "    .option(\"password\", database_config[\"password\"]) \\\n",
    "    .option(\"driver\", database_config[\"driver\"]) \\\n",
    "    .save()\n",
    "except Exception as e:\n",
    "    logger.error(\"Erro: review eschemas or datatypes %s\", str(e), exc_info=True)"
   ]
  },
  {
   "cell_type": "code",
   "execution_count": null,
   "id": "e8cc104f-b2ae-471b-b6e3-b88f9f5e5d66",
   "metadata": {},
   "outputs": [],
   "source": []
  }
 ],
 "metadata": {
  "kernelspec": {
   "display_name": "Python 3 (ipykernel)",
   "language": "python",
   "name": "python3"
  },
  "language_info": {
   "codemirror_mode": {
    "name": "ipython",
    "version": 3
   },
   "file_extension": ".py",
   "mimetype": "text/x-python",
   "name": "python",
   "nbconvert_exporter": "python",
   "pygments_lexer": "ipython3",
   "version": "3.11.5"
  }
 },
 "nbformat": 4,
 "nbformat_minor": 5
}
