{
 "cells": [
  {
   "cell_type": "code",
   "execution_count": 19,
   "id": "ac1b2bc2-17b3-46dd-8990-32bab38fa6bd",
   "metadata": {
    "tags": []
   },
   "outputs": [],
   "source": [
    "from pyspark.context import SparkContext\n",
    "from pyspark.sql.session import SparkSession\n",
    "from pyspark.sql.types import *\n",
    "import os\n",
    "import logging\n",
    "import configparser\n",
    "from pyspark.sql.functions import *"
   ]
  },
  {
   "cell_type": "code",
   "execution_count": 6,
   "id": "f1008b2b-b59b-4982-aff2-711b69c51bd5",
   "metadata": {
    "tags": []
   },
   "outputs": [],
   "source": [
    "spark = SparkSession.builder \\\n",
    "    .appName(\"appGlob\") \\\n",
    "    .config(\"spark.jars\",\"../controller/postgresql-42.7.2.jar\")\\\n",
    "    .config('spark.driver.extraClassPath', '../controller/postgresql-42.7.2.jar') \\\n",
    "    .getOrCreate()"
   ]
  },
  {
   "cell_type": "code",
   "execution_count": 7,
   "id": "80d71012-aac4-4a89-abcd-264c803056bc",
   "metadata": {
    "tags": []
   },
   "outputs": [],
   "source": [
    "config = configparser.ConfigParser()\n",
    "config.read(\"../properties.conf\")\n",
    "database_config = config[\"database\"]"
   ]
  },
  {
   "cell_type": "code",
   "execution_count": 59,
   "id": "e6c11628-7ce3-4121-b0a0-13e03c1503ae",
   "metadata": {
    "tags": []
   },
   "outputs": [],
   "source": [
    "#LOAD_FILE\n",
    "filePath = \"../inputs/\"\n",
    "fileEmp = \"hired_employees.csv\"\n",
    "fileDept = \"departments.csv\"\n",
    "fileJobs = \"jobs.csv\"\n",
    "# Define the schema\n",
    "emp_schema = StructType([\n",
    "    StructField(\"id\", IntegerType(), True),\n",
    "    StructField(\"name\", StringType(), True),\n",
    "    StructField(\"date\", DateType(), True),\n",
    "    StructField(\"id_job\", IntegerType(), True),\n",
    "    StructField(\"id_department\", IntegerType(), True)\n",
    "])\n",
    "\n",
    "jb_schema = StructType([\n",
    "    StructField(\"id\", IntegerType(), True),\n",
    "    StructField(\"job\", StringType(), True)\n",
    "])\n",
    "\n",
    "dp_schema = StructType([\n",
    "    StructField(\"id\", IntegerType(), True),\n",
    "    StructField(\"department\", StringType(), True)\n",
    "])\n"
   ]
  },
  {
   "cell_type": "code",
   "execution_count": 60,
   "id": "0c936462-9f0d-44fc-9ee7-9f101bbbe92c",
   "metadata": {
    "tags": []
   },
   "outputs": [],
   "source": [
    "try: \n",
    "    df_employee = spark.read.csv(filePath+fileEmp,header=False, inferSchema=False, schema=emp_schema ,sep=\",\")\n",
    "    df_job = spark.read.csv(filePath+fileJobs,header=False, inferSchema=False, schema=jb_schema ,sep=\",\")\n",
    "    df_dept = spark.read.csv(filePath+fileDept,header=False, inferSchema=False, schema=dp_schema ,sep=\",\")\n",
    "except Exception as e:\n",
    "    logger.error(\"Error: %s\", str(e), exc_info=True)\n",
    "    df = spark.createDataFrame([], schema=schema)"
   ]
  },
  {
   "cell_type": "code",
   "execution_count": 122,
   "id": "2f31f956-5e39-4f3b-8d09-1ec3af3b02e0",
   "metadata": {
    "tags": []
   },
   "outputs": [],
   "source": [
    "df_result2 = df_employee.alias(\"a\").join(df_job.alias(\"b\"),df_employee[\"id_job\"] == col(\"b.id\"), \"left\").select(col(\"a.id\").alias(\"employee_id\"),\\\n",
    "        col(\"a.name\").alias(\"name\"), \\\n",
    "        col(\"a.date\").alias(\"date\"), \\\n",
    "        col(\"b.job\").alias(\"job\"),\\\n",
    "        col(\"a.id_department\").alias(\"id_department\"))\n",
    "\n",
    "df_result2 = df_result2.alias(\"a\").join(df_dept.alias(\"b\"),df_result2[\"id_department\"] == df_dept[\"id\"], \"left\").select(col(\"a.employee_id\").alias(\"employee_id\"),\\\n",
    "        col(\"a.name\").alias(\"name\"), \\\n",
    "        col(\"a.date\").alias(\"date\"), \\\n",
    "        col(\"a.job\").alias(\"job\"),\\\n",
    "        col(\"b.department\").alias(\"department\"))"
   ]
  },
  {
   "cell_type": "code",
   "execution_count": 142,
   "id": "e18eba18-57ea-42cd-9659-e1b4fd902510",
   "metadata": {
    "tags": []
   },
   "outputs": [],
   "source": [
    "quart1 = when(month(\"date\").between(1, 3) , 1).otherwise(0).alias(\"Q1\")\n",
    "quart2 = when(month(\"date\").between(4, 6) , 1).otherwise(0).alias(\"Q2\")\n",
    "quart3 = when(month(\"date\").between(7, 9) , 1).otherwise(0).alias(\"Q3\")\n",
    "quart4 = when(month(\"date\").between(10, 12) , 1).otherwise(0).alias(\"Q4\")\n",
    "#total_q2 = df.agg(sum(\"Q2\").alias(\"total_Q1\")).collect()[0][\"total_Q2\"]\n",
    "#total_q3 = df.agg(sum(\"Q3\").alias(\"total_Q1\")).collect()[0][\"total_Q3\"]\n",
    "#total_q4 = df.agg(sum(\"Q4\").alias(\"total_Q1\")).collect()[0][\"total_Q4\"]\n",
    "\n",
    "df_resultQuarter = df_result2.select(col(\"*\"),quart1,quart2,quart3,quart4)\n",
    "df_resultQuarter1 = df_resultQuarter.groupBy(\"department\",\"job\", \"Q1\").agg(sum(\"Q1\").alias(\"total_Q1\")).select(\"department\",\"job\", col(\"total_Q1\").alias(\"Q1\"),lit(0).alias(\"Q2\"),lit(0).alias(\"Q3\"),lit(0).alias(\"Q4\"))\n",
    "df_resultQuarter2 = df_resultQuarter.groupBy(\"department\",\"job\", \"Q2\").agg(sum(\"Q2\").alias(\"total_Q2\")).select(\"department\",\"job\",lit(0).alias(\"Q1\"),col(\"total_Q2\").alias(\"Q2\"),lit(0).alias(\"Q3\"),lit(0).alias(\"Q4\"))\n",
    "df_resultQuarter3 = df_resultQuarter.groupBy(\"department\",\"job\", \"Q3\").agg(sum(\"Q3\").alias(\"total_Q3\")).select(\"department\",\"job\",lit(0).alias(\"Q1\"),lit(0).alias(\"Q2\"),col(\"total_Q3\").alias(\"Q3\"),lit(0).alias(\"Q4\"))\n",
    "df_resultQuarter4 = df_resultQuarter.groupBy(\"department\",\"job\", \"Q4\").agg(sum(\"Q4\").alias(\"total_Q4\")).select(\"department\",\"job\",lit(0).alias(\"Q1\"),lit(0).alias(\"Q2\"),lit(0).alias(\"Q3\"),col(\"total_Q4\").alias(\"Q4\"))\n",
    "\n",
    "df_union = df_resultQuarter1.union(df_resultQuarter2).union(df_resultQuarter3).union(df_resultQuarter4)\n",
    "df_union = df_union.orderBy(\"department\",\"job\")\n",
    "\n"
   ]
  },
  {
   "cell_type": "code",
   "execution_count": 148,
   "id": "278b0835-1462-4285-b690-37d233d98b4a",
   "metadata": {
    "tags": []
   },
   "outputs": [
    {
     "name": "stdout",
     "output_type": "stream",
     "text": [
      "+-----------+---------------------------+---+---+---+---+\n",
      "|department |job                        |Q1 |Q2 |Q3 |Q4 |\n",
      "+-----------+---------------------------+---+---+---+---+\n",
      "|Accounting |VP Marketing               |1  |0  |0  |0  |\n",
      "|Accounting |VP Marketing               |0  |0  |0  |0  |\n",
      "|Accounting |VP Marketing               |0  |0  |0  |0  |\n",
      "|Accounting |VP Marketing               |0  |0  |0  |0  |\n",
      "|Accounting |VP Sales                   |0  |0  |0  |0  |\n",
      "|Accounting |VP Sales                   |0  |0  |1  |0  |\n",
      "|Accounting |VP Sales                   |0  |0  |0  |0  |\n",
      "|Accounting |VP Sales                   |0  |0  |0  |0  |\n",
      "|Engineering|Account Representative II  |0  |0  |0  |0  |\n",
      "|Engineering|Account Representative II  |0  |0  |1  |0  |\n",
      "|Engineering|Account Representative II  |0  |0  |0  |0  |\n",
      "|Engineering|Account Representative II  |0  |0  |0  |0  |\n",
      "|Engineering|Environmental Specialist   |0  |1  |0  |0  |\n",
      "|Engineering|Environmental Specialist   |0  |0  |0  |0  |\n",
      "|Engineering|Environmental Specialist   |0  |0  |0  |0  |\n",
      "|Engineering|Environmental Specialist   |0  |0  |0  |0  |\n",
      "|Engineering|Information Systems Manager|0  |0  |0  |0  |\n",
      "|Engineering|Information Systems Manager|0  |0  |1  |0  |\n",
      "|Engineering|Information Systems Manager|0  |0  |0  |0  |\n",
      "|Engineering|Information Systems Manager|0  |0  |0  |0  |\n",
      "+-----------+---------------------------+---+---+---+---+\n",
      "only showing top 20 rows\n",
      "\n"
     ]
    }
   ],
   "source": [
    "df_union.filter(col(\"department\").isNotNull() & col(\"job\").isNotNull()).show(truncate= False)"
   ]
  },
  {
   "cell_type": "code",
   "execution_count": 46,
   "id": "305c70ee-e500-4e0d-985e-68ad0cec6d2f",
   "metadata": {
    "tags": []
   },
   "outputs": [
    {
     "name": "stdout",
     "output_type": "stream",
     "text": [
      "+---+----------+\n",
      "| id|department|\n",
      "+---+----------+\n",
      "|  8|   Support|\n",
      "+---+----------+\n",
      "\n"
     ]
    }
   ],
   "source": [
    "df_dept.filter(col(\"id\") == 8).show()"
   ]
  },
  {
   "cell_type": "code",
   "execution_count": null,
   "id": "fe079874-1d1f-4b31-a1b2-d289bf8398d7",
   "metadata": {},
   "outputs": [],
   "source": []
  }
 ],
 "metadata": {
  "kernelspec": {
   "display_name": "Python 3 (ipykernel)",
   "language": "python",
   "name": "python3"
  },
  "language_info": {
   "codemirror_mode": {
    "name": "ipython",
    "version": 3
   },
   "file_extension": ".py",
   "mimetype": "text/x-python",
   "name": "python",
   "nbconvert_exporter": "python",
   "pygments_lexer": "ipython3",
   "version": "3.11.5"
  }
 },
 "nbformat": 4,
 "nbformat_minor": 5
}
