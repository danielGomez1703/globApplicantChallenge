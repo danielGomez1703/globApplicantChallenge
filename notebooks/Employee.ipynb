{
 "cells": [
  {
   "cell_type": "code",
   "execution_count": null,
   "id": "a8893a76-137d-4500-8238-51a5be59690d",
   "metadata": {},
   "outputs": [],
   "source": []
  },
  {
   "cell_type": "code",
   "execution_count": 1,
   "id": "9c57fcdf-0bd4-4684-b473-b47a9d72d29f",
   "metadata": {
    "tags": []
   },
   "outputs": [],
   "source": [
    "from pyspark.context import SparkContext\n",
    "from pyspark.sql.session import SparkSession\n",
    "from pyspark.sql.types import StructType, StructField, IntegerType, StringType,DateType\n",
    "import os\n",
    "import logging\n",
    "import configparser"
   ]
  },
  {
   "cell_type": "code",
   "execution_count": 2,
   "id": "5c2b3e8b-0d53-424b-a529-656796a42afe",
   "metadata": {
    "tags": []
   },
   "outputs": [],
   "source": [
    "spark = SparkSession.builder \\\n",
    "    .appName(\"appGlob\") \\\n",
    "    .config(\"spark.jars\",\"../controller/postgresql-42.7.2.jar\")\\\n",
    "    .config('spark.driver.extraClassPath', '../controller/postgresql-42.7.2.jar') \\\n",
    "    .getOrCreate()"
   ]
  },
  {
   "cell_type": "code",
   "execution_count": 3,
   "id": "5ca208da-9de7-4341-b441-0728fa3a0ffe",
   "metadata": {
    "tags": []
   },
   "outputs": [],
   "source": [
    "config = configparser.ConfigParser()\n",
    "config.read(\"../properties.conf\")\n",
    "database_config = config[\"database\"]\n",
    "\n"
   ]
  },
  {
   "cell_type": "code",
   "execution_count": 4,
   "id": "e011e68c-afe1-47a5-9857-16461b059b78",
   "metadata": {
    "tags": []
   },
   "outputs": [
    {
     "data": {
      "text/plain": [
       "'3.5.0'"
      ]
     },
     "execution_count": 4,
     "metadata": {},
     "output_type": "execute_result"
    }
   ],
   "source": [
    "spark.version"
   ]
  },
  {
   "cell_type": "code",
   "execution_count": 5,
   "id": "bfd8eb4e-bb48-4efd-9682-fa9fa6f43515",
   "metadata": {
    "tags": []
   },
   "outputs": [],
   "source": [
    "#log\n",
    "logging.basicConfig(level=logging.INFO)\n",
    "logger = logging.getLogger(\"ReadCSV\")\n"
   ]
  },
  {
   "cell_type": "code",
   "execution_count": 6,
   "id": "ff9d1339-0bab-4be4-8cce-e559489b0050",
   "metadata": {},
   "outputs": [],
   "source": [
    "#LOAD_FILE\n",
    "filePath = \"C:/Users/andre/OneDrive/Escritorio/data_challenge_files/\"\n",
    "fileType = \"hired_employees.csv\"\n",
    "# Define the schema\n",
    "dp_schema = StructType([\n",
    "    StructField(\"id\", IntegerType(), True),\n",
    "    StructField(\"name\", StringType(), True),\n",
    "    StructField(\"date\", DateType(), True),\n",
    "    StructField(\"id_job\", IntegerType(), True),\n",
    "    StructField(\"id_department\", IntegerType(), True)\n",
    "])\n"
   ]
  },
  {
   "cell_type": "code",
   "execution_count": 7,
   "id": "248722e8-bf08-4d68-a07c-f7f924ea98f4",
   "metadata": {
    "tags": []
   },
   "outputs": [],
   "source": [
    "try: \n",
    "    df = spark.read.csv(filePath+fileType,header=False, inferSchema=False, schema=dp_schema ,sep=\",\")\n",
    "    \n",
    "except Exception as e:\n",
    "    logger.error(\"Error: %s\", str(e), exc_info=True)\n",
    "    df = spark.createDataFrame([], schema=schema)"
   ]
  },
  {
   "cell_type": "code",
   "execution_count": 8,
   "id": "ae0d5a8d-501a-4900-ba96-9a1dbccb28b7",
   "metadata": {
    "tags": []
   },
   "outputs": [
    {
     "name": "stderr",
     "output_type": "stream",
     "text": [
      "INFO:ReadCSV:Esquema del DataFrame:\n"
     ]
    },
    {
     "name": "stdout",
     "output_type": "stream",
     "text": [
      "root\n",
      " |-- id: integer (nullable = true)\n",
      " |-- name: string (nullable = true)\n",
      " |-- date: date (nullable = true)\n",
      " |-- id_job: integer (nullable = true)\n",
      " |-- id_department: integer (nullable = true)\n",
      "\n"
     ]
    }
   ],
   "source": [
    "logger.info(\"Esquema del DataFrame:\")\n",
    "df.printSchema()"
   ]
  },
  {
   "cell_type": "code",
   "execution_count": 11,
   "id": "bf0f1dbe-8a53-4592-a8e8-09b64da363da",
   "metadata": {
    "tags": []
   },
   "outputs": [
    {
     "data": {
      "text/plain": [
       "1999"
      ]
     },
     "execution_count": 11,
     "metadata": {},
     "output_type": "execute_result"
    }
   ],
   "source": [
    "df.count()"
   ]
  },
  {
   "cell_type": "code",
   "execution_count": 13,
   "id": "f4ca7120-9f78-45df-a9a8-823daa6768bf",
   "metadata": {
    "tags": []
   },
   "outputs": [],
   "source": [
    "try :\n",
    "    df.write \\\n",
    "    .format(\"jdbc\") \\\n",
    "    .mode(\"overwrite\") \\\n",
    "    .option(\"url\", database_config[\"url\"]) \\\n",
    "    .option(\"dbtable\",\"employees\") \\\n",
    "    .option(\"user\", database_config[\"user\"]) \\\n",
    "    .option(\"password\", database_config[\"password\"]) \\\n",
    "    .option(\"driver\", database_config[\"driver\"]) \\\n",
    "    .save()\n",
    "except Exception as e:\n",
    "    logger.error(\"Erro: review eschemas or datatypes %s\", str(e), exc_info=True)"
   ]
  },
  {
   "cell_type": "code",
   "execution_count": null,
   "id": "e8cc104f-b2ae-471b-b6e3-b88f9f5e5d66",
   "metadata": {},
   "outputs": [],
   "source": []
  }
 ],
 "metadata": {
  "kernelspec": {
   "display_name": "Python 3 (ipykernel)",
   "language": "python",
   "name": "python3"
  },
  "language_info": {
   "codemirror_mode": {
    "name": "ipython",
    "version": 3
   },
   "file_extension": ".py",
   "mimetype": "text/x-python",
   "name": "python",
   "nbconvert_exporter": "python",
   "pygments_lexer": "ipython3",
   "version": "3.11.5"
  }
 },
 "nbformat": 4,
 "nbformat_minor": 5
}
